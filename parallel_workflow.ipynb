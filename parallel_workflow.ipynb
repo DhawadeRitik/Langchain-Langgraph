{
 "cells": [
  {
   "cell_type": "code",
   "execution_count": 1,
   "id": "19f52ba8-26a6-4f7a-9697-2f1e789418c7",
   "metadata": {},
   "outputs": [],
   "source": [
    "from langgraph.graph import StateGraph, START, END\n",
    "from typing import TypedDict\n",
    "from langchain_groq import ChatGroq\n",
    "from dotenv import load_dotenv\n",
    "import os "
   ]
  },
  {
   "cell_type": "code",
   "execution_count": 2,
   "id": "f81ea75a-badb-43d9-a2fb-13f60ba29674",
   "metadata": {},
   "outputs": [],
   "source": [
    "load_dotenv()\n",
    "\n",
    "model = ChatGroq(model_name = 'openai/gpt-oss-20b', api_key = os.getenv(\"GROQ_API_KEY\"))"
   ]
  },
  {
   "cell_type": "code",
   "execution_count": 3,
   "id": "f55f9444-2fab-420c-8113-5af9444cce3e",
   "metadata": {},
   "outputs": [],
   "source": [
    "class BatsmanState(TypedDict):\n",
    "    runs  : int \n",
    "    balls : int\n",
    "    fours : int \n",
    "    sixes : int \n",
    "\n",
    "    sr : float \n",
    "    bpb : float \n",
    "    boundry_percent : float \n",
    "    summary : str\n",
    "    "
   ]
  },
  {
   "cell_type": "code",
   "execution_count": 33,
   "id": "fce0c793-6697-47bb-a16e-b6ceeaa805c1",
   "metadata": {},
   "outputs": [],
   "source": [
    "def calculate_sr(state : BatsmanState) -> BatsmanState:\n",
    "    \"\"\" This function calculate the strike rate \"\"\"\n",
    "    sr = (state['runs']/state['balls'])*100\n",
    "\n",
    "    # state['sr'] = sr\n",
    "    \n",
    "    return {'sr':sr}"
   ]
  },
  {
   "cell_type": "code",
   "execution_count": 34,
   "id": "505a69d3-af06-409b-b603-a6861a2d35b2",
   "metadata": {},
   "outputs": [],
   "source": [
    "def calculate_bpb(state : BatsmanState) -> BatsmanState:\n",
    "    \"\"\"This function calculate the balls per boundry \"\"\"\n",
    "    bpb = state['balls'] / (state['fours'] + state['sixes'])\n",
    "\n",
    "    # state['bpb'] = bpb\n",
    "\n",
    "    return {'bpb':bpb}\n",
    "    "
   ]
  },
  {
   "cell_type": "code",
   "execution_count": 35,
   "id": "36963ff9-fbef-49b5-aff7-35371df362d2",
   "metadata": {},
   "outputs": [],
   "source": [
    "def calculate_boundry_percentage(state : BatsmanState) -> BatsmanState :\n",
    "    boundry_percent = (((state['fours'] * 4) + (state['sixes'] * 6))/ state['runs'] * 100)\n",
    "    \n",
    "    # state['boundry_percent'] = boundry_percent\n",
    "    \n",
    "    return {'boundry_percent':boundry_percent}\n"
   ]
  },
  {
   "cell_type": "code",
   "execution_count": 36,
   "id": "942903ec-63ec-4919-a4ef-0928ce559617",
   "metadata": {},
   "outputs": [],
   "source": [
    "def summary(state : BatsmanState) -> BatsmanState:\n",
    "    summary = f\"\"\" \n",
    "                strike rate - {state['sr']} \\n\n",
    "                Boundry percentage - {state['boundry_percent']} \\n\n",
    "                Balls Per Boundry - {state['bpb']}\n",
    "               \"\"\"\n",
    "    # state['summary'] = summary \n",
    "\n",
    "    return {'summary':summary}\n"
   ]
  },
  {
   "cell_type": "code",
   "execution_count": 39,
   "id": "6aa83356-e9f1-472a-80c7-5fc159a7d8a0",
   "metadata": {},
   "outputs": [
    {
     "data": {
      "image/png": "[encoded data removed]",
      "text/plain": [
       "<langgraph.graph.state.CompiledStateGraph object at 0x000001BFF45E8510>"
      ]
     },
     "execution_count": 39,
     "metadata": {},
     "output_type": "execute_result"
    }
   ],
   "source": [
    "graph = StateGraph(BatsmanState)\n",
    "\n",
    "# add a nodes\n",
    "graph.add_node('calculate_sr', calculate_sr)\n",
    "graph.add_node('calculate_bpb', calculate_bpb)\n",
    "graph.add_node('calculate_boundry_percentage', calculate_boundry_percentage)\n",
    "graph.add_node('summary', summary)\n",
    "\n",
    "# create edges \n",
    "graph.add_edge(START, 'calculate_sr')\n",
    "graph.add_edge(START, 'calculate_bpb')\n",
    "graph.add_edge(START, 'calculate_boundry_percentage')\n",
    "\n",
    "graph.add_edge('calculate_sr', 'summary')\n",
    "graph.add_edge('calculate_bpb', 'summary')\n",
    "graph.add_edge('calculate_boundry_percentage', 'summary')\n",
    "\n",
    "graph.add_edge('summary', END)\n",
    "\n",
    "graph.compile()\n",
    "\n"
   ]
  },
  {
   "cell_type": "code",
   "execution_count": 40,
   "id": "613bec9b-12e5-44a7-ac2c-e7f4dc941181",
   "metadata": {},
   "outputs": [],
   "source": [
    "workflow = graph.compile()"
   ]
  },
  {
   "cell_type": "code",
   "execution_count": 41,
   "id": "523a24c4-586f-4631-baa3-5b1b80f99653",
   "metadata": {},
   "outputs": [
    {
     "name": "stdout",
     "output_type": "stream",
     "text": [
      "{'runs': 100, 'balls': 50, 'fours': 6, 'sixes': 4, 'sr': 200.0, 'bpb': 5.0, 'boundry_percent': 48.0}\n"
     ]
    }
   ],
   "source": [
    "initial_state = {\n",
    "                 'runs':100,\n",
    "                 'balls':50, \n",
    "                 'fours':6, \n",
    "                 'sixes':4\n",
    "                }\n",
    "\n",
    "response = workflow.invoke(initial_state)\n",
    "print(response)"
   ]
  },
  {
   "cell_type": "code",
   "execution_count": null,
   "id": "615d99b3-0b4a-4a25-ab63-731b82a22d10",
   "metadata": {},
   "outputs": [],
   "source": []
  },
  {
   "cell_type": "code",
   "execution_count": null,
   "id": "0dbca044-e3c4-4b6e-8df3-45164045ffa8",
   "metadata": {},
   "outputs": [],
   "source": []
  }
 ],
 "metadata": {
  "kernelspec": {
   "display_name": "Python 3 (ipykernel)",
   "language": "python",
   "name": "python3"
  },
  "language_info": {
   "codemirror_mode": {
    "name": "ipython",
    "version": 3
   },
   "file_extension": ".py",
   "mimetype": "text/x-python",
   "name": "python",
   "nbconvert_exporter": "python",
   "pygments_lexer": "ipython3",
   "version": "3.13.3"
  }
 },
 "nbformat": 4,
 "nbformat_minor": 5
}
