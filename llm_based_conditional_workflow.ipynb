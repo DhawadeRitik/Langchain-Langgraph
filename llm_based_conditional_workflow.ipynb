{
 "cells": [
  {
   "cell_type": "code",
   "execution_count": 1,
   "id": "19a50716-8d49-447f-bbe1-7a25bb6689ae",
   "metadata": {},
   "outputs": [],
   "source": [
    "from langchain_groq import ChatGroq \n",
    "from dotenv import load_dotenv\n",
    "from langchain_core.output_parsers import StrOutputParser\n",
    "from langgraph.graph import StateGraph, START , END\n",
    "from typing import TypedDict, Literal\n",
    "from pydantic import BaseModel , Field\n",
    "import os\n"
   ]
  },
  {
   "cell_type": "code",
   "execution_count": 2,
   "id": "bfe4565a-7d2f-454b-a851-4005c1b383c5",
   "metadata": {},
   "outputs": [
    {
     "data": {
      "text/plain": [
       "True"
      ]
     },
     "execution_count": 2,
     "metadata": {},
     "output_type": "execute_result"
    }
   ],
   "source": [
    "load_dotenv()"
   ]
  },
  {
   "cell_type": "code",
   "execution_count": 3,
   "id": "4de21eab-903c-4066-af83-70d9220bd771",
   "metadata": {},
   "outputs": [],
   "source": [
    "model = ChatGroq(model_name = 'openai/gpt-oss-20b', api_key = os.getenv(\"GROQ_API_KEY\"))"
   ]
  },
  {
   "cell_type": "code",
   "execution_count": 4,
   "id": "e3efbce5-9f3b-474f-ad5a-446e7831bcfa",
   "metadata": {},
   "outputs": [],
   "source": [
    "class SentimentSchema(BaseModel):\n",
    "    sentiment : Literal['positive','negative'] = Field(description = 'sentiment of the review')"
   ]
  },
  {
   "cell_type": "code",
   "execution_count": 17,
   "id": "291a36a8-983f-4fb8-bdb8-26e2a4126498",
   "metadata": {},
   "outputs": [],
   "source": [
    "class DiagnosisSchema(BaseModel):\n",
    "    issue_type : Literal['UX','Performance', 'Bug','Suppport','Other'] = Field(description = \"The category of issue mentioned in the review\")\n",
    "    tone : Literal['angry','frustrated','disappointed','calm'] = Field(description=\"The emotional tone expressed by the used\")\n",
    "    urgency : Literal['low','medium','high']                                                              = Field(description=\"How urgent or critical the issue appears to be\")\n"
   ]
  },
  {
   "cell_type": "code",
   "execution_count": 19,
   "id": "1d6e0f05-b51b-4e64-8e3f-52ab85d0f00c",
   "metadata": {},
   "outputs": [],
   "source": [
    "structured_model = model.with_structured_output(SentimentSchema)\n",
    "structured_model1 = model.with_structured_output(DiagnosisSchema)"
   ]
  },
  {
   "cell_type": "code",
   "execution_count": 6,
   "id": "2ad0424c-8ef3-44c9-85ff-68d84c3e6ed4",
   "metadata": {},
   "outputs": [
    {
     "data": {
      "text/plain": [
       "'negative'"
      ]
     },
     "execution_count": 6,
     "metadata": {},
     "output_type": "execute_result"
    }
   ],
   "source": [
    "prompt ='what is the sentiment of the following review - The software is too goog'\n",
    "structured_model.invoke(prompt).sentiment"
   ]
  },
  {
   "cell_type": "code",
   "execution_count": 12,
   "id": "5ab6dadd-b50d-4c70-a02a-cda2e2448b99",
   "metadata": {},
   "outputs": [],
   "source": [
    "class ReviewState(TypedDict):\n",
    "\n",
    "    review: str\n",
    "    sentiment: Literal[\"positive\", \"negative\"]\n",
    "    diagnosis: dict\n",
    "    response: str"
   ]
  },
  {
   "cell_type": "code",
   "execution_count": 13,
   "id": "1937e20e-64cf-4c97-b435-647562c44d47",
   "metadata": {},
   "outputs": [],
   "source": [
    "def find_sentiment(state: ReviewState):\n",
    "\n",
    "    prompt = f'For the following review find out the sentiment \\n {state[\"review\"]}'\n",
    "    sentiment = structured_model.invoke(prompt).sentiment\n",
    "\n",
    "    return {'sentiment': sentiment}\n",
    "\n",
    "     "
   ]
  },
  {
   "cell_type": "code",
   "execution_count": 37,
   "id": "c0cdada2-1184-4a2f-a5b2-e2eca218cb8e",
   "metadata": {},
   "outputs": [],
   "source": [
    "def check_sentiment(state : ReviewState) -> Literal['positive_response','run_diagnosis'] :\n",
    "    if state['sentiment'] == 'positive':\n",
    "        return 'positive_response'\n",
    "    else :\n",
    "        return 'run_diagnosis'\n",
    "        \n",
    "\n",
    "def positive_response(state : ReviewState):\n",
    "    prompt = f\"\"\" Write a warm thank-you message in response to this review:\n",
    "    \\n\\n \"{state['review']}\"\\n\n",
    "    Also , Kindly ask the user to leave feedback on our website.\"\"\"\n",
    "    response = model.invoke(prompt).content\n",
    "    return {'response':response}\n",
    "\n",
    "def run_diagnosis(state : ReviewState):\n",
    "\n",
    "    prompt = f\"\"\"Diagnosis this negative review :\\n\\n\"{state['review']}\\n\"Return issue_type, tone, and urgency\"\"\"\n",
    "    response = structured_model1.invoke(prompt)\n",
    "    return {'diagnosis':response.model_dump()}\n",
    "\n",
    "def negative_response(state : ReviewState):\n",
    "    diagnosis = state['diagnosis']\n",
    "    prompt = f\"\"\"You are a support assistant.\n",
    "                 The user had a '{diagnosis['issue_type']}' issue, sounded '{diagnosis['tone']}', and marked urgency as '{diagnosis['urgency']}'.\n",
    "                 Write an empathetic, helpful resolution message.\"\"\"  \n",
    "    response = model.invoke(prompt).content\n",
    "    return {'response':response}"
   ]
  },
  {
   "cell_type": "code",
   "execution_count": 38,
   "id": "e6a5577d-7b39-442a-8c93-2ead70912436",
   "metadata": {},
   "outputs": [
    {
     "data": {
      "image/png": "[encoded data removed]",
      "text/plain": [
       "<langgraph.graph.state.CompiledStateGraph object at 0x000001D44095DF20>"
      ]
     },
     "execution_count": 38,
     "metadata": {},
     "output_type": "execute_result"
    }
   ],
   "source": [
    "graph = StateGraph(ReviewState)\n",
    "\n",
    "# add nodes \n",
    "graph.add_node('find_sentiment', find_sentiment)\n",
    "graph.add_node('positive_response', positive_response)\n",
    "graph.add_node('run_diagnosis', run_diagnosis)\n",
    "graph.add_node('negative_response', negative_response)\n",
    "\n",
    "\n",
    "\n",
    "# add a edge\n",
    "graph.add_edge(START, 'find_sentiment')\n",
    "graph.add_conditional_edges('find_sentiment',check_sentiment)\n",
    "graph.add_edge('positive_response',END)\n",
    "graph.add_edge('run_diagnosis','negative_response')\n",
    "graph.add_edge('negative_response', END)\n",
    "\n",
    "graph.compile()"
   ]
  },
  {
   "cell_type": "code",
   "execution_count": 45,
   "id": "21620c58-fa57-4ce1-bd91-460ec84c9ed1",
   "metadata": {},
   "outputs": [],
   "source": [
    "workflow = graph.compile()"
   ]
  },
  {
   "cell_type": "code",
   "execution_count": 46,
   "id": "944bfdc3-174d-4c85-af38-a6ca69c28355",
   "metadata": {},
   "outputs": [
    {
     "name": "stdout",
     "output_type": "stream",
     "text": [
      "{'review': 'This software is too bad', 'sentiment': 'negative', 'diagnosis': {'issue_type': 'Other', 'tone': 'disappointed', 'urgency': 'low'}, 'response': 'Hi there,\\n\\nI’m really sorry to hear that you’re disappointed with the experience so far. I want to make sure we get this sorted out for you as smoothly as possible.\\n\\nCould you please let me know a bit more about what’s been happening? If you’re comfortable sharing a short description or any error messages you’ve seen, that will help me pinpoint the exact issue and provide a targeted fix.\\n\\nIn the meantime, here are a few general steps that often clear up common problems:\\n\\n1. **Restart the app or browser** – close it completely and open it again.\\n2. **Clear cache or cookies** – if you’re on a web page, clearing your browser’s cache can resolve many hiccups.\\n3. **Check for updates** – make sure you’re running the latest version of the software or app.\\n4. **Re‑enter your login details** – sometimes a fresh login can reset a stuck session.\\n\\nIf you’re still seeing the same issue after trying these, just let me know what’s happening and we’ll dig deeper. Your satisfaction is important to us, and I’ll do everything I can to get this resolved for you.\\n\\nThanks for reaching out, and I look forward to hearing back from you soon.'}\n"
     ]
    }
   ],
   "source": [
    "initial_state = {\n",
    "    'review':'This software is too bad'\n",
    "}\n",
    "response = workflow.invoke(initial_state)\n",
    "\n",
    "print(response)"
   ]
  },
  {
   "cell_type": "code",
   "execution_count": 47,
   "id": "633cee80-73c9-4712-9d2d-9d93264e8028",
   "metadata": {},
   "outputs": [
    {
     "data": {
      "text/plain": [
       "{'review': 'I’ve been trying to log in for over an hour now, and the app keeps freezing on the authentication screen. I even tried reinstalling it, but no luck. This kind of bug is unacceptable, especially when it affects basic functionality.',\n",
       " 'sentiment': 'negative',\n",
       " 'diagnosis': {'issue_type': 'Bug', 'tone': 'frustrated', 'urgency': 'high'},\n",
       " 'response': 'Hi there,\\n\\nI’m really sorry you’re running into this problem and I understand how frustrating it can be—especially when it’s happening right now. I want to help you get this sorted out as quickly as possible.\\n\\n**Here’s what we can do right away:**\\n\\n1. **Restart the App**  \\n   - Close the app completely (remove it from the recent‑apps list).  \\n   - Re‑open it and see if the issue still appears.  \\n   *If the problem persists, move on to the next step.*\\n\\n2. **Clear Cache (Android) / Delete Cookies (iOS)**  \\n   - **Android:** Settings → Apps → [Your App] → Storage → Clear Cache.  \\n   - **iOS:** Settings → General → iPhone Storage → [Your App] → Delete App → Re‑install from the App Store.  \\n   *This removes any corrupted temporary data that might be causing the crash.*\\n\\n3. **Check for Updates**  \\n   - Make sure both the app and your device’s OS are up to date.  \\n   - If an update is available, install it and then try launching the app again.\\n\\n4. **Send a Quick Crash Log (Optional but Helpful)**  \\n   - If you’re comfortable, you can share a screenshot of the error message or the crash log.  \\n   - To capture a log on Android, open “Settings” → “Developer options” → “Take bug report.”  \\n   - On iOS, you can find crash logs in Settings → Privacy → Analytics & Improvements → Analytics Data.  \\n   *These logs help us pinpoint the exact cause.*\\n\\n5. **Temporary Work‑around**  \\n   - If the bug is blocking a critical task, try accessing the same feature via the web version (if available) or using an older version of the app if you have it installed.\\n\\n**If none of the above resolves the issue:**\\n\\n- Please let me know the exact error message or what happens when you try to use the feature.  \\n- We’ll open a priority ticket (high‑urgency) with our engineering team and keep you updated every 30 minutes until it’s fixed.\\n\\nAgain, I’m sorry for the inconvenience. Your experience matters to us, and we’ll get this resolved as fast as we can.\\n\\nThanks for your patience, and I look forward to your reply so we can keep moving forward.\\n\\nBest regards,  \\n[Your Name]  \\nSupport Team'}"
      ]
     },
     "execution_count": 47,
     "metadata": {},
     "output_type": "execute_result"
    }
   ],
   "source": [
    "intial_state={\n",
    "    'review': \"I’ve been trying to log in for over an hour now, and the app keeps freezing on the authentication screen. I even tried reinstalling it, but no luck. This kind of bug is unacceptable, especially when it affects basic functionality.\"\n",
    "}\n",
    "workflow.invoke(intial_state)"
   ]
  },
  {
   "cell_type": "code",
   "execution_count": 3,
   "id": "d03e2e2d-3603-4dcf-814e-a818805082bc",
   "metadata": {},
   "outputs": [],
   "source": [
    "from langchain_groq import ChatGroq \n",
    "from dotenv import load_dotenv\n",
    "from langchain_core.output_parsers import StrOutputParser\n",
    "from langgraph.graph import StateGraph, START , END\n",
    "from typing import TypedDict, Literal\n",
    "from pydantic import BaseModel , Field\n",
    "import os\n"
   ]
  },
  {
   "cell_type": "code",
   "execution_count": 2,
   "id": "709a37e8-38ce-4748-9a9f-c60752013c57",
   "metadata": {},
   "outputs": [
    {
     "data": {
      "text/plain": [
       "True"
      ]
     },
     "execution_count": 2,
     "metadata": {},
     "output_type": "execute_result"
    }
   ],
   "source": [
    "load_dotenv()"
   ]
  },
  {
   "cell_type": "code",
   "execution_count": 4,
   "id": "72f3d83a-e6ba-462a-b3e6-1a5740119e2d",
   "metadata": {},
   "outputs": [],
   "source": [
    "model = ChatGroq(model_name = 'openai/gpt-oss-20b', api_key = os.getenv(\"GROQ_API_KEY\"))"
   ]
  },
  {
   "cell_type": "code",
   "execution_count": 7,
   "id": "fa833d0e-2965-4936-bea1-5ef123702900",
   "metadata": {},
   "outputs": [],
   "source": [
    "class SentimentSchema(BaseModel):\n",
    "    sentiment : Literal['positive','negative'] = Field(description='Sentiment for the review')"
   ]
  },
  {
   "cell_type": "code",
   "execution_count": 57,
   "id": "26da60f0-9006-483c-b2c9-8be1a3669423",
   "metadata": {},
   "outputs": [],
   "source": [
    "class DiagnosisSchema(BaseModel):\n",
    "    issue_type: Literal[\"UX\", \"Performance\", \"Bug\", \"Support\", \"Other\"] = Field(description='The category of issue mentioned in the review')\n",
    "    tone: Literal[\"angry\", \"frustrated\", \"disappointed\", \"calm\"] = Field(description='The emotional tone expressed by the user')\n",
    "    urgency: Literal[\"low\", \"medium\", \"high\"] = Field(description='How urgent or critical the issue appears to be')\n"
   ]
  },
  {
   "cell_type": "code",
   "execution_count": 58,
   "id": "8598ba1a-31a9-461d-9895-1502ab43336c",
   "metadata": {},
   "outputs": [],
   "source": [
    "structured_model = model.with_structured_output(SentimentSchema)"
   ]
  },
  {
   "cell_type": "code",
   "execution_count": 59,
   "id": "3a7987a5-a1a0-4696-8d62-716a11430259",
   "metadata": {},
   "outputs": [],
   "source": [
    "diagnosis_model = model.with_structured_output(DiagnosisSchema)"
   ]
  },
  {
   "cell_type": "code",
   "execution_count": 15,
   "id": "7ca38513-a502-4569-90e8-1f216772d26d",
   "metadata": {},
   "outputs": [
    {
     "data": {
      "text/plain": [
       "'positive'"
      ]
     },
     "execution_count": 15,
     "metadata": {},
     "output_type": "execute_result"
    }
   ],
   "source": [
    "structured_model.invoke('Give me the sentiment for the following review - This product is good').sentiment"
   ]
  },
  {
   "cell_type": "code",
   "execution_count": 65,
   "id": "c017b18c-e29f-4034-8e6a-ac1d873e7dcc",
   "metadata": {},
   "outputs": [],
   "source": [
    "\n",
    "class ReviewState(TypedDict):\n",
    "    review: str \n",
    "    sentiment: Literal['positive','negative']\n",
    "    diagnosis: dict \n",
    "    response: str \n",
    "\n",
    "\n",
    "def find_sentiment(state: ReviewState):\n",
    "    \"\"\"Find sentiment for the review\"\"\"\n",
    "    prompt = f\"Find the sentiment for the following review - {state['review']}\"\n",
    "    sentiment = structured_model.invoke(prompt).sentiment\n",
    "    return {'sentiment': sentiment}\n",
    "\n",
    "\n",
    "def positive_review(state: ReviewState):\n",
    "    prompt = f\"\"\"Give a warm thank-you message in response to the review:\n",
    "                 {state['review']}.\n",
    "                 Also ask the user to drop the review on our website.\"\"\"\n",
    "    response = model.invoke(prompt).content\n",
    "    return {'response': response}\n",
    "\n",
    "\n",
    "def run_diagnosis(state: ReviewState):\n",
    "    prompt = f\"\"\"Diagnose this negative review: {state['review']}.\n",
    "                 Return issue_type, tone, and urgency.\"\"\"\n",
    "    response = diagnosis_model.invoke(prompt)\n",
    "    return {'diagnosis': response.model_dump()}\n",
    "\n",
    "\n",
    "def negative_review(state: ReviewState):\n",
    "    diagnosis = state['diagnosis']\n",
    "    prompt = f\"\"\"You are a support assistant.\n",
    "                 The user had a '{diagnosis['issue_type']}' issue, \n",
    "                 sounded '{diagnosis['tone']}', \n",
    "                 and marked urgency as '{diagnosis['urgency']}'.\n",
    "                 Write an empathetic, helpful resolution message.\"\"\"\n",
    "    response = diagnosis_model.invoke(prompt)\n",
    "    return {'response': response}\n",
    "\n",
    "\n",
    "def check_condition(state: ReviewState) -> Literal['positive_review','run_diagnosis']:\n",
    "    return 'positive_review' if state['sentiment'] == 'positive' else 'run_diagnosis'\n"
   ]
  },
  {
   "cell_type": "code",
   "execution_count": 66,
   "id": "47db16f4-21ce-4b7c-9a41-31790519b927",
   "metadata": {},
   "outputs": [
    {
     "data": {
      "image/png": "[encoded data removed]",
      "text/plain": [
       "<langgraph.graph.state.CompiledStateGraph object at 0x0000016263DA0A70>"
      ]
     },
     "execution_count": 66,
     "metadata": {},
     "output_type": "execute_result"
    }
   ],
   "source": [
    "from langgraph.graph import StateGraph, START, END\n",
    "\n",
    "graph = StateGraph(ReviewState)\n",
    "\n",
    "graph.add_node('find_sentiment', find_sentiment)\n",
    "graph.add_node('positive_review', positive_review)\n",
    "graph.add_node('negative_review', negative_review)\n",
    "graph.add_node('run_diagnosis', run_diagnosis)\n",
    "\n",
    "# Entry point\n",
    "graph.add_edge(START, 'find_sentiment')\n",
    "\n",
    "# Conditional edges (MAPPING ADDED ✅)\n",
    "graph.add_conditional_edges('find_sentiment', check_condition)\n",
    "  \n",
    "# Continue workflow\n",
    "graph.add_edge('run_diagnosis', 'negative_review')\n",
    "graph.add_edge('positive_review', END)\n",
    "graph.add_edge('negative_review', END)\n",
    "\n",
    "# Compile graph\n",
    "workflow = graph.compile()\n",
    "workflow"
   ]
  },
  {
   "cell_type": "code",
   "execution_count": 67,
   "id": "1a741cba-6c9a-4c1b-8b9a-56ce86ff84df",
   "metadata": {},
   "outputs": [
    {
     "data": {
      "text/plain": [
       "{'review': 'This product is too bag',\n",
       " 'sentiment': 'negative',\n",
       " 'diagnosis': {'issue_type': 'UX', 'tone': 'disappointed', 'urgency': 'low'},\n",
       " 'response': DiagnosisSchema(issue_type='UX', tone='disappointed', urgency='low')}"
      ]
     },
     "execution_count": 67,
     "metadata": {},
     "output_type": "execute_result"
    }
   ],
   "source": [
    "initial_state = {\n",
    "    'review' :'This product is too bag'\n",
    "}\n",
    "response = workflow.invoke(initial_state)\n",
    "response"
   ]
  },
  {
   "cell_type": "code",
   "execution_count": null,
   "id": "dc41a2e5-e96a-433c-b736-7e50606ddc94",
   "metadata": {},
   "outputs": [],
   "source": []
  }
 ],
 "metadata": {
  "kernelspec": {
   "display_name": "Python 3 (ipykernel)",
   "language": "python",
   "name": "python3"
  },
  "language_info": {
   "codemirror_mode": {
    "name": "ipython",
    "version": 3
   },
   "file_extension": ".py",
   "mimetype": "text/x-python",
   "name": "python",
   "nbconvert_exporter": "python",
   "pygments_lexer": "ipython3",
   "version": "3.13.3"
  }
 },
 "nbformat": 4,
 "nbformat_minor": 5
}
