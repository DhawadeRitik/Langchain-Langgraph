{
 "cells": [
  {
   "cell_type": "code",
   "execution_count": 2,
   "id": "6323a3f9-e5a4-431d-93a8-c1df2af49686",
   "metadata": {},
   "outputs": [],
   "source": [
    "from langgraph.graph import StateGraph, START, END\n",
    "from typing import TypedDict, Literal"
   ]
  },
  {
   "cell_type": "code",
   "execution_count": 3,
   "id": "8fecca58-69f0-4605-8a38-431714a849d1",
   "metadata": {},
   "outputs": [],
   "source": [
    "class QuadState(TypedDict):\n",
    "    a: int \n",
    "    b: int\n",
    "    c: int\n",
    "\n",
    "    equation : str \n",
    "    discriminant : float \n",
    "    result : str"
   ]
  },
  {
   "cell_type": "code",
   "execution_count": 12,
   "id": "e7a1588e-42ed-47bc-b980-b00c13a3aeb9",
   "metadata": {},
   "outputs": [],
   "source": [
    "def show_equation(state : QuadState):\n",
    "    \"\"\"This function is used to create a equation \"\"\"\n",
    "\n",
    "    equation = f'{state['a']}x2*{state['b']}x{state['c']}'\n",
    "\n",
    "    return {'equation':equation}\n",
    "\n",
    "def calculate_discriminant(state : QuadState):\n",
    "    \"\"\" This function calculate the discriminant \"\"\"\n",
    "\n",
    "    discriminant = state['b']**2 - (4*state['a']*state['c'])\n",
    "\n",
    "    return { 'discriminant' :discriminant}"
   ]
  },
  {
   "cell_type": "code",
   "execution_count": 20,
   "id": "7e0c66e1-e7b8-4aab-834e-e248fbe857ef",
   "metadata": {},
   "outputs": [],
   "source": [
    "def real_root(state : QuadState):\n",
    "    root1 = (-state['b'] + state['discriminant']**0.5)/2*state['a']\n",
    "    root2 = (-state['b'] - state['discriminant']**0.5)/2*state['a']\n",
    "\n",
    "    result = f'the roots are {root1} and {root2}'\n",
    "\n",
    "    return {'result':result }\n",
    "\n",
    "def repeated_root(state : QuadState):\n",
    "    root = (-state['b']/2*state['a'])\n",
    "\n",
    "    result = f'only repeating root is {root}'\n",
    "\n",
    "    return {'result':result }\n",
    "\n",
    "def no_real_root(state : QuadState):\n",
    "\n",
    "    result = f'No real root'\n",
    "\n",
    "    return {'result':result }\n",
    "\n",
    "\n",
    "# function to create a condition\n",
    "def check_conditions(state : QuadState) -> Literal['real_root', 'repeated_root', 'no_real_root']:\n",
    "\n",
    "    if state['discriminant'] > 0:\n",
    "        return 'real_root'\n",
    "    elif state['discriminant'] == 0:\n",
    "        return 'repeated_root'\n",
    "    else :\n",
    "        return 'no_real_root'"
   ]
  },
  {
   "cell_type": "code",
   "execution_count": 24,
   "id": "e005d52f-4dd1-4e72-ad58-5445cae7f251",
   "metadata": {},
   "outputs": [
    {
     "data": {
      "image/png": "[encoded data removed]",
      "text/plain": [
       "<langgraph.graph.state.CompiledStateGraph object at 0x0000023845593680>"
      ]
     },
     "execution_count": 24,
     "metadata": {},
     "output_type": "execute_result"
    }
   ],
   "source": [
    "graph = StateGraph(QuadState)\n",
    "\n",
    "# add nodes \n",
    "graph.add_node('show_equation', show_equation)\n",
    "graph.add_node('calculate_discriminant', calculate_discriminant)\n",
    "graph.add_node('real_root', real_root)\n",
    "graph.add_node('repeated_root', repeated_root)\n",
    "graph.add_node('no_real_root', no_real_root)\n",
    "\n",
    "graph.add_edge(START, 'show_equation')\n",
    "graph.add_edge('show_equation', 'calculate_discriminant')\n",
    "graph.add_conditional_edges('calculate_discriminant', check_conditions)\n",
    "graph.add_edge('real_root', END)\n",
    "graph.add_edge('no_real_root', END)\n",
    "graph.add_edge('repeated_root', END)\n",
    "\n",
    "\n",
    "graph.compile()\n"
   ]
  },
  {
   "cell_type": "code",
   "execution_count": 26,
   "id": "4db2a7a8-379c-4c50-88b1-767f44dd1724",
   "metadata": {},
   "outputs": [
    {
     "name": "stdout",
     "output_type": "stream",
     "text": [
      "{'a': 4, 'b': 2, 'c': 2, 'equation': '4x2*2x2', 'discriminant': -28, 'result': 'No real root'}\n"
     ]
    }
   ],
   "source": [
    "workflow = graph.compile()\n",
    "\n",
    "initial_state = {\n",
    "    'a':4,\n",
    "    'b':2,\n",
    "    'c':2\n",
    "}\n",
    "response = workflow.invoke(initial_state)\n",
    "print(response)"
   ]
  },
  {
   "cell_type": "code",
   "execution_count": null,
   "id": "5f50554a-90ae-4807-b7db-49e0b0fb9aa8",
   "metadata": {},
   "outputs": [],
   "source": []
  },
  {
   "cell_type": "code",
   "execution_count": null,
   "id": "97055eed-f96d-49b8-9448-e76609438be0",
   "metadata": {},
   "outputs": [],
   "source": []
  },
  {
   "cell_type": "code",
   "execution_count": null,
   "id": "bdf77695-3113-4e45-967c-5fdd0431ffb9",
   "metadata": {},
   "outputs": [],
   "source": []
  }
 ],
 "metadata": {
  "kernelspec": {
   "display_name": "Python 3 (ipykernel)",
   "language": "python",
   "name": "python3"
  },
  "language_info": {
   "codemirror_mode": {
    "name": "ipython",
    "version": 3
   },
   "file_extension": ".py",
   "mimetype": "text/x-python",
   "name": "python",
   "nbconvert_exporter": "python",
   "pygments_lexer": "ipython3",
   "version": "3.13.3"
  }
 },
 "nbformat": 4,
 "nbformat_minor": 5
}
